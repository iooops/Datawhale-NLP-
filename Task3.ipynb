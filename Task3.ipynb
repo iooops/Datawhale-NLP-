{
 "cells": [
  {
   "cell_type": "code",
   "execution_count": 1,
   "metadata": {},
   "outputs": [
    {
     "data": {
      "text/plain": [
       "'\\n天池链接：https://tianchi.aliyun.com/notebook-ai/detail?spm=5176.12586969.1002.12.6406111aIKCSLV&postId=118254\\n\\nTask3 基于机器学习的文本分类\\n\\n学习目标¶\\n学会TF-IDF的原理和使用\\n使用sklearn的机器学习模型完成文本分类\\n\\n文本表示方法：\\nOne-hot：1.对每个字进行索引 2.将索引完成的n个字转化为独特的n维向量\\n\\nBag of Words：每个文档的字词用其出现次数来统计。\\n\\nN-gram: 和Bag of Words类似，不过每个字加入了邻近的N个字组成新的单词进行计数。\\n\\nTF-IDF: TF - Term-frequency, IDF - Inverse Document Frequency\\nTF(t)= 该词语在当前文档出现的次数 / 当前文档中词语的总数\\nIDF(t)= log_e（文档总数 / 出现该词语的文档总数）\\n\\n'"
      ]
     },
     "execution_count": 1,
     "metadata": {},
     "output_type": "execute_result"
    }
   ],
   "source": [
    "'''\n",
    "天池链接：https://tianchi.aliyun.com/notebook-ai/detail?spm=5176.12586969.1002.12.6406111aIKCSLV&postId=118254\n",
    "\n",
    "Task3 基于机器学习的文本分类\n",
    "\n",
    "学习目标¶\n",
    "学会TF-IDF的原理和使用\n",
    "使用sklearn的机器学习模型完成文本分类\n",
    "\n",
    "文本表示方法：\n",
    "One-hot：1.对每个字进行索引 2.将索引完成的n个字转化为独特的n维向量\n",
    "\n",
    "Bag of Words：每个文档的字词用其出现次数来统计。\n",
    "\n",
    "N-gram: 和Bag of Words类似，不过每个字加入了邻近的N个字组成新的单词进行计数。\n",
    "\n",
    "TF-IDF: TF - Term-frequency, IDF - Inverse Document Frequency\n",
    "TF(t)= 该词语在当前文档出现的次数 / 当前文档中词语的总数\n",
    "IDF(t)= log_e（文档总数 / 出现该词语的文档总数）\n",
    "\n",
    "'''\n"
   ]
  },
  {
   "cell_type": "code",
   "execution_count": 7,
   "metadata": {},
   "outputs": [
    {
     "name": "stdout",
     "output_type": "stream",
     "text": [
      "0.7484250637618726\n"
     ]
    }
   ],
   "source": [
    "# Count Vectors + RidgeClassifier\n",
    "\n",
    "import pandas as pd\n",
    "\n",
    "from sklearn.feature_extraction.text import CountVectorizer\n",
    "from sklearn.linear_model import RidgeClassifier\n",
    "from sklearn.metrics import f1_score\n",
    "\n",
    "train_df = pd.read_csv('./data/train_set.csv', sep='\\t')\n",
    "\n",
    "vectorizer = CountVectorizer(max_features=3000)\n",
    "train_test = vectorizer.fit_transform(train_df['text'])\n",
    "\n",
    "clf = RidgeClassifier()\n",
    "clf.fit(train_test[:10000], train_df['label'].values[:10000])\n",
    "\n",
    "val_pred = clf.predict(train_test[10000:])\n",
    "print(f1_score(train_df['label'].values[10000:], val_pred, average='macro'))"
   ]
  },
  {
   "cell_type": "code",
   "execution_count": null,
   "metadata": {
    "scrolled": true
   },
   "outputs": [],
   "source": [
    "# TF-IDF +  RidgeClassifier\n",
    "\n",
    "import pandas as pd\n",
    "\n",
    "from sklearn.feature_extraction.text import TfidfVectorizer\n",
    "from sklearn.linear_model import RidgeClassifier\n",
    "from sklearn.metrics import f1_score\n",
    "\n",
    "train_df = pd.read_csv('./data/train_set.csv', sep='\\t')\n",
    "\n",
    "tfidf = TfidfVectorizer(ngram_range=(1,3), max_features=3000)\n",
    "train_test = tfidf.fit_transform(train_df['text'])\n",
    "\n",
    "clf = RidgeClassifier()\n",
    "clf.fit(train_test[:10000], train_df['label'].values[:10000])\n",
    "\n",
    "val_pred = clf.predict(train_test[10000:])\n",
    "print(f1_score(train_df['label'].values[10000:], val_pred, average='macro'))"
   ]
  },
  {
   "cell_type": "code",
   "execution_count": null,
   "metadata": {},
   "outputs": [],
   "source": [
    "'''\n",
    "本章作业\n",
    "尝试改变TF-IDF的参数，并验证精度\n",
    "尝试使用其他机器学习模型，完成训练和验证\n",
    "'''\n",
    "\n"
   ]
  }
 ],
 "metadata": {
  "kernelspec": {
   "display_name": "Python 3",
   "language": "python",
   "name": "python3"
  },
  "language_info": {
   "codemirror_mode": {
    "name": "ipython",
    "version": 3
   },
   "file_extension": ".py",
   "mimetype": "text/x-python",
   "name": "python",
   "nbconvert_exporter": "python",
   "pygments_lexer": "ipython3",
   "version": "3.7.5"
  }
 },
 "nbformat": 4,
 "nbformat_minor": 2
}
